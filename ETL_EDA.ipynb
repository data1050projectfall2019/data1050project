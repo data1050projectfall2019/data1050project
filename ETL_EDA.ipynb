{
 "cells": [
  {
   "cell_type": "markdown",
   "metadata": {},
   "source": [
    "# ETL_EDA    \n",
    "This file records the process of acquiring raw data, traforming them, and loading them into a MongoDB. The data are store (almost) in their raw form."
   ]
  },
  {
   "cell_type": "code",
   "execution_count": 5,
   "metadata": {},
   "outputs": [],
   "source": [
    "from get_data import *"
   ]
  },
  {
   "cell_type": "markdown",
   "metadata": {},
   "source": [
    "## 1. Raw html data from basketball-reference.com containing NBA data\n",
    "The data is embeded in a plain html website page and thus we need to crawl the website and find the specific tags to retrieve the tablular data that we need.\n",
    "\n",
    "The website page source is at https://www.basketball-reference.com/leagues/NBA_2020_totals.html\n",
    "\n",
    "It contains the overall performance of each officially registered NBA player in season 2019-2020.\n",
    "\n",
    "At the time this project is being contructed, the 2019-2020 NBA gaming season is not over yet. Thus, the dataset will be updated minutely when there is a game playing. Also, there will be no update on the dataset if there is no game playing on the day."
   ]
  },
  {
   "cell_type": "code",
   "execution_count": 1,
   "metadata": {},
   "outputs": [],
   "source": [
    "import requests\n",
    "from bs4 import BeautifulSoup\n",
    "import pandas as pds\n",
    "\n",
    "url = 'https://www.basketball-reference.com/leagues/NBA_2020_totals.html'\n",
    "html_file = requests.get(url)\n",
    "soup = BeautifulSoup(html_file.text)\n",
    "\n",
    "# Demonstration of the raw data table\n",
    "table_body = soup.find('tbody')  # find the table\n",
    "rows = table_body.find_all('tr') # find each row in the table"
   ]
  },
  {
   "cell_type": "markdown",
   "metadata": {},
   "source": [
    "Display the first 10 players' raw information"
   ]
  },
  {
   "cell_type": "code",
   "execution_count": 9,
   "metadata": {},
   "outputs": [
    {
     "name": "stdout",
     "output_type": "stream",
     "text": [
      "<tr class=\"full_table\"><th class=\"right \" csk=\"1\" data-stat=\"ranker\" scope=\"row\">1</th><td class=\"left \" csk=\"Adams,Steven\" data-append-csv=\"adamsst01\" data-stat=\"player\"><a href=\"/players/a/adamsst01.html\">Steven Adams</a></td><td class=\"center \" data-stat=\"pos\">C</td><td class=\"right \" data-stat=\"age\">26</td><td class=\"left \" data-stat=\"team_id\"><a href=\"/teams/OKC/2020.html\">OKC</a></td><td class=\"right \" data-stat=\"g\">22</td><td class=\"right \" data-stat=\"gs\">22</td><td class=\"right \" data-stat=\"mp\">600</td><td class=\"right \" data-stat=\"fg\">106</td><td class=\"right \" data-stat=\"fga\">174</td><td class=\"right \" data-stat=\"fg_pct\">.609</td><td class=\"right iz\" data-stat=\"fg3\">0</td><td class=\"right \" data-stat=\"fg3a\">1</td><td class=\"right non_qual\" data-stat=\"fg3_pct\">.000</td><td class=\"right \" data-stat=\"fg2\">106</td><td class=\"right \" data-stat=\"fg2a\">173</td><td class=\"right \" data-stat=\"fg2_pct\">.613</td><td class=\"right \" data-stat=\"efg_pct\">.609</td><td class=\"right \" data-stat=\"ft\">34</td><td class=\"right \" data-stat=\"fta\">66</td><td class=\"right non_qual\" data-stat=\"ft_pct\">.515</td><td class=\"right \" data-stat=\"orb\">71</td><td class=\"right \" data-stat=\"drb\">139</td><td class=\"right \" data-stat=\"trb\">210</td><td class=\"right \" data-stat=\"ast\">62</td><td class=\"right \" data-stat=\"stl\">10</td><td class=\"right \" data-stat=\"blk\">29</td><td class=\"right \" data-stat=\"tov\">31</td><td class=\"right \" data-stat=\"pf\">43</td><td class=\"right \" data-stat=\"pts\">246</td></tr>\n",
      "<tr class=\"full_table\"><th class=\"right \" csk=\"2\" data-stat=\"ranker\" scope=\"row\">2</th><td class=\"left \" csk=\"Adebayo,Bam\" data-append-csv=\"adebaba01\" data-stat=\"player\"><a href=\"/players/a/adebaba01.html\">Bam Adebayo</a></td><td class=\"center \" data-stat=\"pos\">C</td><td class=\"right \" data-stat=\"age\">22</td><td class=\"left \" data-stat=\"team_id\"><a href=\"/teams/MIA/2020.html\">MIA</a></td><td class=\"right \" data-stat=\"g\">26</td><td class=\"right \" data-stat=\"gs\">26</td><td class=\"right \" data-stat=\"mp\">878</td><td class=\"right \" data-stat=\"fg\">149</td><td class=\"right \" data-stat=\"fga\">255</td><td class=\"right \" data-stat=\"fg_pct\">.584</td><td class=\"right \" data-stat=\"fg3\">1</td><td class=\"right \" data-stat=\"fg3a\">8</td><td class=\"right non_qual\" data-stat=\"fg3_pct\">.125</td><td class=\"right \" data-stat=\"fg2\">148</td><td class=\"right \" data-stat=\"fg2a\">247</td><td class=\"right \" data-stat=\"fg2_pct\">.599</td><td class=\"right \" data-stat=\"efg_pct\">.586</td><td class=\"right \" data-stat=\"ft\">97</td><td class=\"right \" data-stat=\"fta\">149</td><td class=\"right \" data-stat=\"ft_pct\">.651</td><td class=\"right \" data-stat=\"orb\">67</td><td class=\"right \" data-stat=\"drb\">209</td><td class=\"right \" data-stat=\"trb\">276</td><td class=\"right \" data-stat=\"ast\">120</td><td class=\"right \" data-stat=\"stl\">36</td><td class=\"right \" data-stat=\"blk\">31</td><td class=\"right \" data-stat=\"tov\">75</td><td class=\"right \" data-stat=\"pf\">70</td><td class=\"right \" data-stat=\"pts\">396</td></tr>\n",
      "<tr class=\"full_table\"><th class=\"right \" csk=\"3\" data-stat=\"ranker\" scope=\"row\">3</th><td class=\"left \" csk=\"Aldridge,LaMarcus\" data-append-csv=\"aldrila01\" data-stat=\"player\"><a href=\"/players/a/aldrila01.html\">LaMarcus Aldridge</a></td><td class=\"center \" data-stat=\"pos\">C</td><td class=\"right \" data-stat=\"age\">34</td><td class=\"left \" data-stat=\"team_id\"><a href=\"/teams/SAS/2020.html\">SAS</a></td><td class=\"right \" data-stat=\"g\">23</td><td class=\"right \" data-stat=\"gs\">23</td><td class=\"right \" data-stat=\"mp\">768</td><td class=\"right \" data-stat=\"fg\">174</td><td class=\"right \" data-stat=\"fga\">348</td><td class=\"right \" data-stat=\"fg_pct\">.500</td><td class=\"right \" data-stat=\"fg3\">13</td><td class=\"right \" data-stat=\"fg3a\">38</td><td class=\"right non_qual\" data-stat=\"fg3_pct\">.342</td><td class=\"right \" data-stat=\"fg2\">161</td><td class=\"right \" data-stat=\"fg2a\">310</td><td class=\"right \" data-stat=\"fg2_pct\">.519</td><td class=\"right \" data-stat=\"efg_pct\">.519</td><td class=\"right \" data-stat=\"ft\">71</td><td class=\"right \" data-stat=\"fta\">87</td><td class=\"right \" data-stat=\"ft_pct\">.816</td><td class=\"right \" data-stat=\"orb\">47</td><td class=\"right \" data-stat=\"drb\">117</td><td class=\"right \" data-stat=\"trb\">164</td><td class=\"right \" data-stat=\"ast\">55</td><td class=\"right \" data-stat=\"stl\">14</td><td class=\"right \" data-stat=\"blk\">41</td><td class=\"right \" data-stat=\"tov\">37</td><td class=\"right \" data-stat=\"pf\">51</td><td class=\"right \" data-stat=\"pts\">432</td></tr>\n",
      "<tr class=\"full_table\"><th class=\"right \" csk=\"4\" data-stat=\"ranker\" scope=\"row\">4</th><td class=\"left \" csk=\"Alexander-Walker,Nickeil\" data-append-csv=\"alexani01\" data-stat=\"player\"><a href=\"/players/a/alexani01.html\">Nickeil Alexander-Walker</a></td><td class=\"center \" data-stat=\"pos\">SG</td><td class=\"right \" data-stat=\"age\">21</td><td class=\"left \" data-stat=\"team_id\"><a href=\"/teams/NOP/2020.html\">NOP</a></td><td class=\"right \" data-stat=\"g\">22</td><td class=\"right iz\" data-stat=\"gs\">0</td><td class=\"right \" data-stat=\"mp\">301</td><td class=\"right \" data-stat=\"fg\">49</td><td class=\"right \" data-stat=\"fga\">148</td><td class=\"right non_qual\" data-stat=\"fg_pct\">.331</td><td class=\"right \" data-stat=\"fg3\">27</td><td class=\"right \" data-stat=\"fg3a\">79</td><td class=\"right \" data-stat=\"fg3_pct\">.342</td><td class=\"right \" data-stat=\"fg2\">22</td><td class=\"right \" data-stat=\"fg2a\">69</td><td class=\"right non_qual\" data-stat=\"fg2_pct\">.319</td><td class=\"right non_qual\" data-stat=\"efg_pct\">.422</td><td class=\"right \" data-stat=\"ft\">11</td><td class=\"right \" data-stat=\"fta\">16</td><td class=\"right non_qual\" data-stat=\"ft_pct\">.688</td><td class=\"right \" data-stat=\"orb\">4</td><td class=\"right \" data-stat=\"drb\">43</td><td class=\"right \" data-stat=\"trb\">47</td><td class=\"right \" data-stat=\"ast\">40</td><td class=\"right \" data-stat=\"stl\">9</td><td class=\"right \" data-stat=\"blk\">2</td><td class=\"right \" data-stat=\"tov\">24</td><td class=\"right \" data-stat=\"pf\">27</td><td class=\"right \" data-stat=\"pts\">136</td></tr>\n",
      "<tr class=\"full_table\"><th class=\"right \" csk=\"5\" data-stat=\"ranker\" scope=\"row\">5</th><td class=\"left \" csk=\"Allen,Grayson\" data-append-csv=\"allengr01\" data-stat=\"player\"><a href=\"/players/a/allengr01.html\">Grayson Allen</a></td><td class=\"center \" data-stat=\"pos\">SG</td><td class=\"right \" data-stat=\"age\">24</td><td class=\"left \" data-stat=\"team_id\"><a href=\"/teams/MEM/2020.html\">MEM</a></td><td class=\"right \" data-stat=\"g\">13</td><td class=\"right iz\" data-stat=\"gs\">0</td><td class=\"right \" data-stat=\"mp\">246</td><td class=\"right \" data-stat=\"fg\">38</td><td class=\"right \" data-stat=\"fga\">92</td><td class=\"right non_qual\" data-stat=\"fg_pct\">.413</td><td class=\"right \" data-stat=\"fg3\">15</td><td class=\"right \" data-stat=\"fg3a\">43</td><td class=\"right non_qual\" data-stat=\"fg3_pct\">.349</td><td class=\"right \" data-stat=\"fg2\">23</td><td class=\"right \" data-stat=\"fg2a\">49</td><td class=\"right non_qual\" data-stat=\"fg2_pct\">.469</td><td class=\"right non_qual\" data-stat=\"efg_pct\">.495</td><td class=\"right \" data-stat=\"ft\">15</td><td class=\"right \" data-stat=\"fta\">17</td><td class=\"right non_qual\" data-stat=\"ft_pct\">.882</td><td class=\"right \" data-stat=\"orb\">2</td><td class=\"right \" data-stat=\"drb\">36</td><td class=\"right \" data-stat=\"trb\">38</td><td class=\"right \" data-stat=\"ast\">19</td><td class=\"right \" data-stat=\"stl\">5</td><td class=\"right \" data-stat=\"blk\">1</td><td class=\"right \" data-stat=\"tov\">15</td><td class=\"right \" data-stat=\"pf\">21</td><td class=\"right \" data-stat=\"pts\">106</td></tr>\n",
      "<tr class=\"full_table\"><th class=\"right \" csk=\"6\" data-stat=\"ranker\" scope=\"row\">6</th><td class=\"left \" csk=\"Allen,Jarrett\" data-append-csv=\"allenja01\" data-stat=\"player\"><a href=\"/players/a/allenja01.html\">Jarrett Allen</a></td><td class=\"center \" data-stat=\"pos\">C</td><td class=\"right \" data-stat=\"age\">21</td><td class=\"left \" data-stat=\"team_id\"><a href=\"/teams/BRK/2020.html\">BRK</a></td><td class=\"right \" data-stat=\"g\">26</td><td class=\"right \" data-stat=\"gs\">23</td><td class=\"right \" data-stat=\"mp\">683</td><td class=\"right \" data-stat=\"fg\">125</td><td class=\"right \" data-stat=\"fga\">190</td><td class=\"right \" data-stat=\"fg_pct\">.658</td><td class=\"right iz\" data-stat=\"fg3\">0</td><td class=\"right \" data-stat=\"fg3a\">1</td><td class=\"right non_qual\" data-stat=\"fg3_pct\">.000</td><td class=\"right \" data-stat=\"fg2\">125</td><td class=\"right \" data-stat=\"fg2a\">189</td><td class=\"right \" data-stat=\"fg2_pct\">.661</td><td class=\"right \" data-stat=\"efg_pct\">.658</td><td class=\"right \" data-stat=\"ft\">70</td><td class=\"right \" data-stat=\"fta\">115</td><td class=\"right \" data-stat=\"ft_pct\">.609</td><td class=\"right \" data-stat=\"orb\">96</td><td class=\"right \" data-stat=\"drb\">175</td><td class=\"right \" data-stat=\"trb\">271</td><td class=\"right \" data-stat=\"ast\">31</td><td class=\"right \" data-stat=\"stl\">18</td><td class=\"right \" data-stat=\"blk\">32</td><td class=\"right \" data-stat=\"tov\">29</td><td class=\"right \" data-stat=\"pf\">63</td><td class=\"right \" data-stat=\"pts\">320</td></tr>\n",
      "<tr class=\"full_table\"><th class=\"right \" csk=\"7\" data-stat=\"ranker\" scope=\"row\">7</th><td class=\"left \" csk=\"Allen,Kadeem\" data-append-csv=\"allenka01\" data-stat=\"player\"><a href=\"/players/a/allenka01.html\">Kadeem Allen</a></td><td class=\"center \" data-stat=\"pos\">SG</td><td class=\"right \" data-stat=\"age\">27</td><td class=\"left \" data-stat=\"team_id\"><a href=\"/teams/NYK/2020.html\">NYK</a></td><td class=\"right \" data-stat=\"g\">1</td><td class=\"right iz\" data-stat=\"gs\">0</td><td class=\"right \" data-stat=\"mp\">16</td><td class=\"right \" data-stat=\"fg\">3</td><td class=\"right \" data-stat=\"fga\">6</td><td class=\"right non_qual\" data-stat=\"fg_pct\">.500</td><td class=\"right \" data-stat=\"fg3\">3</td><td class=\"right \" data-stat=\"fg3a\">4</td><td class=\"right non_qual\" data-stat=\"fg3_pct\">.750</td><td class=\"right iz\" data-stat=\"fg2\">0</td><td class=\"right \" data-stat=\"fg2a\">2</td><td class=\"right non_qual\" data-stat=\"fg2_pct\">.000</td><td class=\"right non_qual\" data-stat=\"efg_pct\">.750</td><td class=\"right iz\" data-stat=\"ft\">0</td><td class=\"right iz\" data-stat=\"fta\">0</td><td class=\"right non_qual iz\" data-stat=\"ft_pct\"></td><td class=\"right iz\" data-stat=\"orb\">0</td><td class=\"right iz\" data-stat=\"drb\">0</td><td class=\"right iz\" data-stat=\"trb\">0</td><td class=\"right \" data-stat=\"ast\">2</td><td class=\"right \" data-stat=\"stl\">1</td><td class=\"right iz\" data-stat=\"blk\">0</td><td class=\"right \" data-stat=\"tov\">1</td><td class=\"right \" data-stat=\"pf\">1</td><td class=\"right \" data-stat=\"pts\">9</td></tr>\n",
      "<tr class=\"full_table\"><th class=\"right \" csk=\"8\" data-stat=\"ranker\" scope=\"row\">8</th><td class=\"left \" csk=\"Aminu,Al-Farouq\" data-append-csv=\"aminual01\" data-stat=\"player\"><a href=\"/players/a/aminual01.html\">Al-Farouq Aminu</a></td><td class=\"center \" data-stat=\"pos\">PF</td><td class=\"right \" data-stat=\"age\">29</td><td class=\"left \" data-stat=\"team_id\"><a href=\"/teams/ORL/2020.html\">ORL</a></td><td class=\"right \" data-stat=\"g\">18</td><td class=\"right \" data-stat=\"gs\">2</td><td class=\"right \" data-stat=\"mp\">380</td><td class=\"right \" data-stat=\"fg\">25</td><td class=\"right \" data-stat=\"fga\">86</td><td class=\"right non_qual\" data-stat=\"fg_pct\">.291</td><td class=\"right \" data-stat=\"fg3\">9</td><td class=\"right \" data-stat=\"fg3a\">36</td><td class=\"right non_qual\" data-stat=\"fg3_pct\">.250</td><td class=\"right \" data-stat=\"fg2\">16</td><td class=\"right \" data-stat=\"fg2a\">50</td><td class=\"right non_qual\" data-stat=\"fg2_pct\">.320</td><td class=\"right non_qual\" data-stat=\"efg_pct\">.343</td><td class=\"right \" data-stat=\"ft\">19</td><td class=\"right \" data-stat=\"fta\">29</td><td class=\"right non_qual\" data-stat=\"ft_pct\">.655</td><td class=\"right \" data-stat=\"orb\">24</td><td class=\"right \" data-stat=\"drb\">63</td><td class=\"right \" data-stat=\"trb\">87</td><td class=\"right \" data-stat=\"ast\">21</td><td class=\"right \" data-stat=\"stl\">18</td><td class=\"right \" data-stat=\"blk\">8</td><td class=\"right \" data-stat=\"tov\">17</td><td class=\"right \" data-stat=\"pf\">27</td><td class=\"right \" data-stat=\"pts\">78</td></tr>\n",
      "<tr class=\"full_table\"><th class=\"right \" csk=\"9\" data-stat=\"ranker\" scope=\"row\">9</th><td class=\"left \" csk=\"Anderson,Kyle\" data-append-csv=\"anderky01\" data-stat=\"player\"><a href=\"/players/a/anderky01.html\">Kyle Anderson</a></td><td class=\"center \" data-stat=\"pos\">PF</td><td class=\"right \" data-stat=\"age\">26</td><td class=\"left \" data-stat=\"team_id\"><a href=\"/teams/MEM/2020.html\">MEM</a></td><td class=\"right \" data-stat=\"g\">20</td><td class=\"right \" data-stat=\"gs\">1</td><td class=\"right \" data-stat=\"mp\">405</td><td class=\"right \" data-stat=\"fg\">51</td><td class=\"right \" data-stat=\"fga\">106</td><td class=\"right non_qual\" data-stat=\"fg_pct\">.481</td><td class=\"right \" data-stat=\"fg3\">4</td><td class=\"right \" data-stat=\"fg3a\">17</td><td class=\"right non_qual\" data-stat=\"fg3_pct\">.235</td><td class=\"right \" data-stat=\"fg2\">47</td><td class=\"right \" data-stat=\"fg2a\">89</td><td class=\"right non_qual\" data-stat=\"fg2_pct\">.528</td><td class=\"right non_qual\" data-stat=\"efg_pct\">.500</td><td class=\"right \" data-stat=\"ft\">18</td><td class=\"right \" data-stat=\"fta\">30</td><td class=\"right non_qual\" data-stat=\"ft_pct\">.600</td><td class=\"right \" data-stat=\"orb\">21</td><td class=\"right \" data-stat=\"drb\">70</td><td class=\"right \" data-stat=\"trb\">91</td><td class=\"right \" data-stat=\"ast\">50</td><td class=\"right \" data-stat=\"stl\">15</td><td class=\"right \" data-stat=\"blk\">13</td><td class=\"right \" data-stat=\"tov\">19</td><td class=\"right \" data-stat=\"pf\">34</td><td class=\"right \" data-stat=\"pts\">124</td></tr>\n",
      "<tr class=\"full_table\"><th class=\"right \" csk=\"10\" data-stat=\"ranker\" scope=\"row\">10</th><td class=\"left \" csk=\"Anderson,Ryan\" data-append-csv=\"anderry01\" data-stat=\"player\"><a href=\"/players/a/anderry01.html\">Ryan Anderson</a></td><td class=\"center \" data-stat=\"pos\">PF</td><td class=\"right \" data-stat=\"age\">31</td><td class=\"left \" data-stat=\"team_id\"><a href=\"/teams/HOU/2020.html\">HOU</a></td><td class=\"right \" data-stat=\"g\">2</td><td class=\"right iz\" data-stat=\"gs\">0</td><td class=\"right \" data-stat=\"mp\">14</td><td class=\"right \" data-stat=\"fg\">2</td><td class=\"right \" data-stat=\"fga\">7</td><td class=\"right non_qual\" data-stat=\"fg_pct\">.286</td><td class=\"right \" data-stat=\"fg3\">1</td><td class=\"right \" data-stat=\"fg3a\">5</td><td class=\"right non_qual\" data-stat=\"fg3_pct\">.200</td><td class=\"right \" data-stat=\"fg2\">1</td><td class=\"right \" data-stat=\"fg2a\">2</td><td class=\"right non_qual\" data-stat=\"fg2_pct\">.500</td><td class=\"right non_qual\" data-stat=\"efg_pct\">.357</td><td class=\"right iz\" data-stat=\"ft\">0</td><td class=\"right iz\" data-stat=\"fta\">0</td><td class=\"right non_qual iz\" data-stat=\"ft_pct\"></td><td class=\"right iz\" data-stat=\"orb\">0</td><td class=\"right \" data-stat=\"drb\">7</td><td class=\"right \" data-stat=\"trb\">7</td><td class=\"right \" data-stat=\"ast\">2</td><td class=\"right \" data-stat=\"stl\">1</td><td class=\"right iz\" data-stat=\"blk\">0</td><td class=\"right \" data-stat=\"tov\">1</td><td class=\"right \" data-stat=\"pf\">1</td><td class=\"right \" data-stat=\"pts\">5</td></tr>\n",
      "<tr class=\"full_table\"><th class=\"right \" csk=\"11\" data-stat=\"ranker\" scope=\"row\">11</th><td class=\"left \" csk=\"Antetokounmpo,Giannis\" data-append-csv=\"antetgi01\" data-stat=\"player\"><a href=\"/players/a/antetgi01.html\">Giannis Antetokounmpo</a></td><td class=\"center \" data-stat=\"pos\">PF</td><td class=\"right \" data-stat=\"age\">25</td><td class=\"left \" data-stat=\"team_id\"><a href=\"/teams/MIL/2020.html\">MIL</a></td><td class=\"right \" data-stat=\"g\">26</td><td class=\"right \" data-stat=\"gs\">26</td><td class=\"right \" data-stat=\"mp\">809</td><td class=\"right \" data-stat=\"fg\">299</td><td class=\"right \" data-stat=\"fga\">531</td><td class=\"right \" data-stat=\"fg_pct\">.563</td><td class=\"right \" data-stat=\"fg3\">43</td><td class=\"right \" data-stat=\"fg3a\">131</td><td class=\"right \" data-stat=\"fg3_pct\">.328</td><td class=\"right \" data-stat=\"fg2\">256</td><td class=\"right \" data-stat=\"fg2a\">400</td><td class=\"right \" data-stat=\"fg2_pct\">.640</td><td class=\"right \" data-stat=\"efg_pct\">.604</td><td class=\"right \" data-stat=\"ft\">166</td><td class=\"right \" data-stat=\"fta\">280</td><td class=\"right \" data-stat=\"ft_pct\">.593</td><td class=\"right \" data-stat=\"orb\">68</td><td class=\"right \" data-stat=\"drb\">264</td><td class=\"right \" data-stat=\"trb\">332</td><td class=\"right \" data-stat=\"ast\">139</td><td class=\"right \" data-stat=\"stl\">33</td><td class=\"right \" data-stat=\"blk\">32</td><td class=\"right \" data-stat=\"tov\">96</td><td class=\"right \" data-stat=\"pf\">82</td><td class=\"right \" data-stat=\"pts\">807</td></tr>\n"
     ]
    }
   ],
   "source": [
    "i = 0\n",
    "for r in rows:\n",
    "    print(r)\n",
    "    if i == 10:\n",
    "        break\n",
    "    i+=1"
   ]
  },
  {
   "cell_type": "markdown",
   "metadata": {},
   "source": [
    "## 2. Raw Data to Documents/Dicts      \n",
    "The table text is found and will need to be extracted from the html string. The missing values indicates that the player either does not play a game yet or it is not applicable for him. Thus, all the missing values will be set to 0. The data will first be stored as a list of dictionary containing each player's record."
   ]
  },
  {
   "cell_type": "code",
   "execution_count": 6,
   "metadata": {},
   "outputs": [],
   "source": [
    "percents = ['FG%', '3P%', '2P%', 'eFG%', 'FT%']\n",
    "data = [] # a list of records.\n",
    "\n",
    "# get column names\n",
    "feature_names = [row.text.strip() for row in soup.find('thead').find_all(\"th\")]\n",
    "rank = 1\n",
    "for r in rows:\n",
    "    cols = r.find_all('td')\n",
    "    if len(cols):\n",
    "        cols = [element.text.strip() for element in cols]\n",
    "        cols = [str(rank)] + [element if element else '0' for element in cols]   \n",
    "        rank += 1\n",
    "        record = dict() # store the record for this player\n",
    "        for i in range(len(feature_names)):\n",
    "            name = feature_names[i]\n",
    "            if name in percents:\n",
    "                record[name] = float(cols[i])\n",
    "            else:\n",
    "                try:\n",
    "                    record[name] = int(cols[i])\n",
    "                except:\n",
    "                    record[name] = cols[i]\n",
    "        data.append(record)"
   ]
  },
  {
   "cell_type": "markdown",
   "metadata": {},
   "source": [
    "Displaying the first record"
   ]
  },
  {
   "cell_type": "code",
   "execution_count": 7,
   "metadata": {},
   "outputs": [
    {
     "data": {
      "text/plain": [
       "{'Rk': 1,\n",
       " 'Player': 'Steven Adams',\n",
       " 'Pos': 'C',\n",
       " 'Age': 26,\n",
       " 'Tm': 'OKC',\n",
       " 'G': 23,\n",
       " 'GS': 23,\n",
       " 'MP': 629,\n",
       " 'FG': 110,\n",
       " 'FGA': 182,\n",
       " 'FG%': 0.604,\n",
       " '3P': 0,\n",
       " '3PA': 1,\n",
       " '3P%': 0.0,\n",
       " '2P': 110,\n",
       " '2PA': 181,\n",
       " '2P%': 0.608,\n",
       " 'eFG%': 0.604,\n",
       " 'FT': 35,\n",
       " 'FTA': 68,\n",
       " 'FT%': 0.515,\n",
       " 'ORB': 77,\n",
       " 'DRB': 144,\n",
       " 'TRB': 221,\n",
       " 'AST': 63,\n",
       " 'STL': 10,\n",
       " 'BLK': 30,\n",
       " 'TOV': 35,\n",
       " 'PF': 44,\n",
       " 'PTS': 255}"
      ]
     },
     "execution_count": 7,
     "metadata": {},
     "output_type": "execute_result"
    }
   ],
   "source": [
    "data[0]"
   ]
  },
  {
   "cell_type": "markdown",
   "metadata": {},
   "source": [
    "The data can also be displayed as a pandas. Let's show the first few rows in a tabular format."
   ]
  },
  {
   "cell_type": "code",
   "execution_count": 16,
   "metadata": {},
   "outputs": [
    {
     "data": {
      "text/html": [
       "<div>\n",
       "<style scoped>\n",
       "    .dataframe tbody tr th:only-of-type {\n",
       "        vertical-align: middle;\n",
       "    }\n",
       "\n",
       "    .dataframe tbody tr th {\n",
       "        vertical-align: top;\n",
       "    }\n",
       "\n",
       "    .dataframe thead th {\n",
       "        text-align: right;\n",
       "    }\n",
       "</style>\n",
       "<table border=\"1\" class=\"dataframe\">\n",
       "  <thead>\n",
       "    <tr style=\"text-align: right;\">\n",
       "      <th></th>\n",
       "      <th>2P</th>\n",
       "      <th>2P%</th>\n",
       "      <th>2PA</th>\n",
       "      <th>3P</th>\n",
       "      <th>3P%</th>\n",
       "      <th>3PA</th>\n",
       "      <th>AST</th>\n",
       "      <th>Age</th>\n",
       "      <th>BLK</th>\n",
       "      <th>DRB</th>\n",
       "      <th>...</th>\n",
       "      <th>PF</th>\n",
       "      <th>PTS</th>\n",
       "      <th>Player</th>\n",
       "      <th>Pos</th>\n",
       "      <th>Rk</th>\n",
       "      <th>STL</th>\n",
       "      <th>TOV</th>\n",
       "      <th>TRB</th>\n",
       "      <th>Tm</th>\n",
       "      <th>eFG%</th>\n",
       "    </tr>\n",
       "  </thead>\n",
       "  <tbody>\n",
       "    <tr>\n",
       "      <th>0</th>\n",
       "      <td>106</td>\n",
       "      <td>.613</td>\n",
       "      <td>173</td>\n",
       "      <td>0</td>\n",
       "      <td>.000</td>\n",
       "      <td>1</td>\n",
       "      <td>62</td>\n",
       "      <td>26</td>\n",
       "      <td>29</td>\n",
       "      <td>139</td>\n",
       "      <td>...</td>\n",
       "      <td>43</td>\n",
       "      <td>246</td>\n",
       "      <td>Steven Adams</td>\n",
       "      <td>C</td>\n",
       "      <td>1</td>\n",
       "      <td>10</td>\n",
       "      <td>31</td>\n",
       "      <td>210</td>\n",
       "      <td>OKC</td>\n",
       "      <td>.609</td>\n",
       "    </tr>\n",
       "    <tr>\n",
       "      <th>1</th>\n",
       "      <td>148</td>\n",
       "      <td>.599</td>\n",
       "      <td>247</td>\n",
       "      <td>1</td>\n",
       "      <td>.125</td>\n",
       "      <td>8</td>\n",
       "      <td>120</td>\n",
       "      <td>22</td>\n",
       "      <td>31</td>\n",
       "      <td>209</td>\n",
       "      <td>...</td>\n",
       "      <td>70</td>\n",
       "      <td>396</td>\n",
       "      <td>Bam Adebayo</td>\n",
       "      <td>C</td>\n",
       "      <td>2</td>\n",
       "      <td>36</td>\n",
       "      <td>75</td>\n",
       "      <td>276</td>\n",
       "      <td>MIA</td>\n",
       "      <td>.586</td>\n",
       "    </tr>\n",
       "    <tr>\n",
       "      <th>2</th>\n",
       "      <td>161</td>\n",
       "      <td>.519</td>\n",
       "      <td>310</td>\n",
       "      <td>13</td>\n",
       "      <td>.342</td>\n",
       "      <td>38</td>\n",
       "      <td>55</td>\n",
       "      <td>34</td>\n",
       "      <td>41</td>\n",
       "      <td>117</td>\n",
       "      <td>...</td>\n",
       "      <td>51</td>\n",
       "      <td>432</td>\n",
       "      <td>LaMarcus Aldridge</td>\n",
       "      <td>C</td>\n",
       "      <td>3</td>\n",
       "      <td>14</td>\n",
       "      <td>37</td>\n",
       "      <td>164</td>\n",
       "      <td>SAS</td>\n",
       "      <td>.519</td>\n",
       "    </tr>\n",
       "    <tr>\n",
       "      <th>3</th>\n",
       "      <td>22</td>\n",
       "      <td>.319</td>\n",
       "      <td>69</td>\n",
       "      <td>27</td>\n",
       "      <td>.342</td>\n",
       "      <td>79</td>\n",
       "      <td>40</td>\n",
       "      <td>21</td>\n",
       "      <td>2</td>\n",
       "      <td>43</td>\n",
       "      <td>...</td>\n",
       "      <td>27</td>\n",
       "      <td>136</td>\n",
       "      <td>Nickeil Alexander-Walker</td>\n",
       "      <td>SG</td>\n",
       "      <td>4</td>\n",
       "      <td>9</td>\n",
       "      <td>24</td>\n",
       "      <td>47</td>\n",
       "      <td>NOP</td>\n",
       "      <td>.422</td>\n",
       "    </tr>\n",
       "    <tr>\n",
       "      <th>4</th>\n",
       "      <td>23</td>\n",
       "      <td>.469</td>\n",
       "      <td>49</td>\n",
       "      <td>15</td>\n",
       "      <td>.349</td>\n",
       "      <td>43</td>\n",
       "      <td>19</td>\n",
       "      <td>24</td>\n",
       "      <td>1</td>\n",
       "      <td>36</td>\n",
       "      <td>...</td>\n",
       "      <td>21</td>\n",
       "      <td>106</td>\n",
       "      <td>Grayson Allen</td>\n",
       "      <td>SG</td>\n",
       "      <td>5</td>\n",
       "      <td>5</td>\n",
       "      <td>15</td>\n",
       "      <td>38</td>\n",
       "      <td>MEM</td>\n",
       "      <td>.495</td>\n",
       "    </tr>\n",
       "  </tbody>\n",
       "</table>\n",
       "<p>5 rows × 30 columns</p>\n",
       "</div>"
      ],
      "text/plain": [
       "    2P   2P%  2PA  3P   3P% 3PA  AST Age BLK  DRB  ...  PF  PTS  \\\n",
       "0  106  .613  173   0  .000   1   62  26  29  139  ...  43  246   \n",
       "1  148  .599  247   1  .125   8  120  22  31  209  ...  70  396   \n",
       "2  161  .519  310  13  .342  38   55  34  41  117  ...  51  432   \n",
       "3   22  .319   69  27  .342  79   40  21   2   43  ...  27  136   \n",
       "4   23  .469   49  15  .349  43   19  24   1   36  ...  21  106   \n",
       "\n",
       "                     Player Pos Rk STL TOV  TRB   Tm  eFG%  \n",
       "0              Steven Adams   C  1  10  31  210  OKC  .609  \n",
       "1               Bam Adebayo   C  2  36  75  276  MIA  .586  \n",
       "2         LaMarcus Aldridge   C  3  14  37  164  SAS  .519  \n",
       "3  Nickeil Alexander-Walker  SG  4   9  24   47  NOP  .422  \n",
       "4             Grayson Allen  SG  5   5  15   38  MEM  .495  \n",
       "\n",
       "[5 rows x 30 columns]"
      ]
     },
     "execution_count": 16,
     "metadata": {},
     "output_type": "execute_result"
    }
   ],
   "source": [
    "import pandas as pd\n",
    "df = pd.DataFrame.from_records(data)\n",
    "df.head()"
   ]
  },
  {
   "cell_type": "markdown",
   "metadata": {},
   "source": [
    "## 3. Upsert MongoDB         \n",
    "Here, the data can is a list of dicts which is what we want for the MongoDB. We will upsert each record to MongoDB. Due to the fact that 1) there is no time log for each record and 2) the data set is not huge and 3) the information of each player may change minutely, all the records will be updated each time the new data is fetched."
   ]
  },
  {
   "cell_type": "code",
   "execution_count": null,
   "metadata": {},
   "outputs": [],
   "source": [
    "import pymongo\n",
    "client = pymongo.MongoClient()\n",
    "\n",
    "db = client.get_database(\"nba\")\n",
    "collection = db.get_collection(\"nba\")\n",
    "for record in data:\n",
    "    collection.replace_one(\n",
    "        filter={'Player': record['Player']},    # locate the document is exists\n",
    "        replacement=record,                     # latest document\n",
    "        upsert = True)                          # update if exists, insert if not"
   ]
  },
  {
   "cell_type": "code",
   "execution_count": null,
   "metadata": {},
   "outputs": [],
   "source": []
  }
 ],
 "metadata": {
  "kernelspec": {
   "display_name": "Python 3",
   "language": "python",
   "name": "python3"
  },
  "language_info": {
   "codemirror_mode": {
    "name": "ipython",
    "version": 3
   },
   "file_extension": ".py",
   "mimetype": "text/x-python",
   "name": "python",
   "nbconvert_exporter": "python",
   "pygments_lexer": "ipython3",
   "version": "3.7.1"
  }
 },
 "nbformat": 4,
 "nbformat_minor": 2
}
